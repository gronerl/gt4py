{
 "cells": [
  {
   "cell_type": "code",
   "execution_count": 1,
   "metadata": {},
   "outputs": [
    {
     "data": {
      "text/html": [
       "<link href=\"https://fonts.googleapis.com/icon?family=Material+Icons\" rel=\"stylesheet\">\n",
       "        <script>\n",
       "        require.config({\n",
       "            paths: {\n",
       "                \"math\": \"https://spcl.github.io/dace/webclient/external_lib/math.min\"\n",
       "            },\n",
       "            waitSeconds: 40\n",
       "          });\n",
       "        require( [\"math\"], x => window.math = x);\n",
       "        </script><script src=\"https://spcl.github.io/dace/webclient/renderer_dir/dagre.js\"></script>\n",
       "<script src=\"https://spcl.github.io/dace/webclient/renderer_dir/global_vars.js\"></script>\n",
       "<script src=\"https://spcl.github.io/dace/webclient/context_menu.js\"></script>\n",
       "<script src=\"https://spcl.github.io/dace/webclient/renderer_elements.js\"></script>\n",
       "<script src=\"https://spcl.github.io/dace/webclient/sdfg_utils.js\"></script>\n",
       "<script src=\"https://spcl.github.io/dace/webclient/overlay_manager.js\"></script>\n",
       "<script src=\"https://spcl.github.io/dace/webclient/renderer.js\"></script>\n",
       "<link href=\"https://spcl.github.io/dace/webclient/sdfv.css\" rel=\"stylesheet\">\n"
      ],
      "text/plain": [
       "<IPython.core.display.HTML object>"
      ]
     },
     "metadata": {},
     "output_type": "display_data"
    }
   ],
   "source": [
    "import dace\n",
    "import gt4py\n",
    "import numpy as np\n",
    "\n",
    "from gt4py import gtscript\n",
    "from gt4py.gtscript import Field"
   ]
  },
  {
   "cell_type": "code",
   "execution_count": 2,
   "metadata": {
    "scrolled": true
   },
   "outputs": [],
   "source": [
    "@gtscript.as_sdfg\n",
    "def diffusion_step(c_in: Field[np.float32], c_out: Field[np.float32], delc: Field[np.float32], coeff: np.float32, dt: np.float32):\n",
    "    with computation(PARALLEL), interval(1, -1):\n",
    "        delc = (\n",
    "            -6.0 * c_in[0, 0, 0]\n",
    "            + c_in[1, 0, 0]\n",
    "            + c_in[0, 1, 0]\n",
    "            + c_in[0, 0, 1]\n",
    "            + c_in[-1, 0, 0]\n",
    "            + c_in[0, -1, 0]\n",
    "            + c_in[0, 0, -1]\n",
    "        )\n",
    "        c_out = c_in + dt * coeff * delc\n",
    "        delc = delc if delc>=0 else -delc"
   ]
  },
  {
   "cell_type": "code",
   "execution_count": 3,
   "metadata": {},
   "outputs": [],
   "source": [
    "\n",
    "dt = np.float32(0.1)\n",
    "coeff = np.float32(0.5)\n",
    "domain = (10, 10, 10)\n",
    "\n",
    "I = domain[0]\n",
    "J = domain[1]\n",
    "K = domain[2]\n",
    "\n",
    "@dace.program\n",
    "def swap(x, y):\n",
    "    return y, x\n",
    "    \n",
    "@dace.program\n",
    "def diffusion_periodic(c: dace.float32[I, J, K], threshold: dace.float32, maxiter: dace.int64):\n",
    "    c_haloed = np.empty((I + 2, J + 2, K + 2), dtype=np.float32)\n",
    "    c_tmp = np.empty_like(c_haloed)\n",
    "    delc = np.empty((I, J, K+2), dtype=np.float32)\n",
    "    delc[...] = threshold+1.0\n",
    "    c_haloed[1:I + 1, 1:J + 1, 1:K + 1] = c\n",
    "\n",
    "    it = 0\n",
    "    tmp_c_tmp = np.empty_like(c_tmp[1:I + 1, 1:J + 1, 0:K + 2])\n",
    "    tmp_delc = np.empty((I, J, K-2), dtype=np.float32)\n",
    "    tmp_delc[...] = delc[:,:,1:K-1]\n",
    "    \n",
    "    while tmp_delc.max() > threshold and it<maxiter:\n",
    "        # set periodic BC:\n",
    "        c_haloed[0, 1:J + 1, 1:K + 1] = c_haloed[I, 1:J + 1, 1:K + 1]\n",
    "        c_haloed[I + 1, 1:J + 1, 1:K + 1] = c_haloed[1, 1:J + 1, 1:K + 1]\n",
    "        c_haloed[1:I + 1, 0, 1:K + 1] = c_haloed[1:I + 1, J, 1:K + 1]\n",
    "        c_haloed[1:I + 1, J + 1, 1:K + 1] = c_haloed[1:I + 1, 1, 1:K + 1]\n",
    "        c_haloed[1:I + 1, 1:J + 1, 0] = c_haloed[1:I + 1, 1:J + 1, K]\n",
    "        c_haloed[1:I + 1, 1:J + 1, K + 1] = c_haloed[1:I + 1, 1:J + 1, 1]\n",
    "\n",
    "        # preparing output slice\n",
    "        tmp_c_tmp[...] = c_tmp[1:I + 1, 1:J + 1, 0:K + 2]\n",
    "        \n",
    "        # stencil call\n",
    "        diffusion_step(c_in=c_haloed, c_out=tmp_c_tmp, delc=delc, coeff=coeff, dt=dt)\n",
    "        \n",
    "        # writing back results\n",
    "        c_tmp[1:I + 1, 1:J + 1, 0:K+2] = tmp_c_tmp\n",
    "        tmp_delc[...] = delc[:,:,1:K-1]\n",
    "\n",
    "        # swap\n",
    "        c_tmp[:], c_haloed[:] = swap(c_tmp, c_haloed)\n",
    "        it += 1\n",
    "    c[...] = c_haloed[1:I + 1, 1:J + 1, 1:K + 1]\n"
   ]
  },
  {
   "cell_type": "code",
   "execution_count": 5,
   "metadata": {
    "scrolled": false
   },
   "outputs": [
    {
     "name": "stdout",
     "output_type": "stream",
     "text": [
      "WARNING: Casting scalar argument \"threshold\" from float to <class 'numpy.float32'>\n",
      "0.007999964 0.008000025\n"
     ]
    },
    {
     "data": {
      "text/plain": [
       "'ac8c225df1689053edb7076813fbfbd1f205f3c2dc204765298695ac69d45bfa'"
      ]
     },
     "execution_count": 5,
     "metadata": {},
     "output_type": "execute_result"
    }
   ],
   "source": [
    "c = np.zeros(domain, dtype='float32')\n",
    "c[0:2, 0:2, 0:2] = 1.0\n",
    "\n",
    "# diffusion_callable = diffusion_periodic.compile()\n",
    "\n",
    "res = diffusion_periodic(c, threshold=1e-8, maxiter=99999999)\n",
    "print(c.min(), c.max())\n",
    "diffusion_periodic.to_sdfg().save('tmp.sdfg')"
   ]
  }
 ],
 "metadata": {
  "kernelspec": {
   "display_name": "Python 3",
   "language": "python",
   "name": "python3"
  },
  "language_info": {
   "codemirror_mode": {
    "name": "ipython",
    "version": 3
   },
   "file_extension": ".py",
   "mimetype": "text/x-python",
   "name": "python",
   "nbconvert_exporter": "python",
   "pygments_lexer": "ipython3",
   "version": "3.8.5"
  }
 },
 "nbformat": 4,
 "nbformat_minor": 5
}

{
 "cells": [
  {
   "cell_type": "markdown",
   "metadata": {},
   "source": [
    "# GT Storage Interface\n",
    "\n",
    "* Storages which are passed without the `__gt_interface__` the storage is assumed to be in the order which is used in the stencil. (I.e. I-J-K currently) To retrieve information about the buffer, the passed object will be tested for the `__array_interface__` and/or, depending on the backend the `__cuda_array_interface__` properties. Alternatively, other standards are acceptable, as long as they are compatible with `np.asarray` and/or `cp.asarray`. \n",
    "* If the `__gt_interface__` is defined, it should return a `Map[Optional[str],Callable[Map[str, Any]]]`, which is explained in the following sections.\n",
    "\n",
    "## `__gt_interface__`\n",
    "\n",
    "This property maps a device identifier to a structured Currently, device identifiers can be `None` for main memory or `\"gpu\"` for gpu buffers. These could be extended to numeric device Id's in case of multiple accelerators, fpgas etc, or combinations such as `(\"gpu\", 0)`. The value of the map would be a `Map` of \n",
    "* a subset of the `__array_interface__` and `__array_cuda_interface__`. Namely, the `TODO` from there are used.\n",
    "* the `\"dims\"` key returns a sequence of string keys denoting the semantic meanings (such as `\"I\", \"J\", \"K\"` of the dimensions of the storage. \n",
    "* the object can specify callables taking no arguments at the `\"acquire\"`, `\"release\"` and `\"touch\"` keys. If defined and not `None`, `\"acquire\"`and `\"release\"` will be called before and after running computations on the buffers, respectively. The `\"touch\"` function will be called only for output fields after computations have finished:\n",
    "```\n",
    "for field in fields:\n",
    "    field.acquire()\n",
    "run_stencil(*fields)\n",
    "for field in output_fields:\n",
    "    field.touch()\n",
    "for field in fields:\n",
    "    field.acquire()\n",
    "```\n",
    "\n",
    "A buffer can be incompatible for a number of reasons:\n",
    "* the backend is not compatible with the given memory due to low level details such as the layout\n",
    "* the semantic dimensions or dtype are not the same as in the stencil definition\n",
    "* no buffer is passed for the compute device of the stencil\n",
    "\n",
    "The behavior in these cases can be defined by either raising errors or allocating and copying the buffers for the computations and copying back the results. The latter could be useful for debugging e.g. GPU applications with single stencils in the `\"debug\"` backends. \n",
    "\n",
    "\n",
    "## Examples\n",
    "The following is a simple example of a class providing both a buffer on GPU as well as in main memory:"
   ]
  },
  {
   "cell_type": "code",
   "execution_count": 1,
   "metadata": {
    "scrolled": true
   },
   "outputs": [
    {
     "ename": "ModuleNotFoundError",
     "evalue": "No module named 'cupy'",
     "output_type": "error",
     "traceback": [
      "\u001b[0;31m---------------------------------------------------------------------------\u001b[0m",
      "\u001b[0;31mModuleNotFoundError\u001b[0m                       Traceback (most recent call last)",
      "\u001b[0;32m<ipython-input-1-c8b9ccbace94>\u001b[0m in \u001b[0;36m<module>\u001b[0;34m\u001b[0m\n\u001b[1;32m      1\u001b[0m \u001b[0;32mimport\u001b[0m \u001b[0mnumpy\u001b[0m \u001b[0;32mas\u001b[0m \u001b[0mnp\u001b[0m\u001b[0;34m\u001b[0m\u001b[0;34m\u001b[0m\u001b[0m\n\u001b[0;32m----> 2\u001b[0;31m \u001b[0;32mimport\u001b[0m \u001b[0mcupy\u001b[0m \u001b[0;32mas\u001b[0m \u001b[0mcp\u001b[0m\u001b[0;34m\u001b[0m\u001b[0;34m\u001b[0m\u001b[0m\n\u001b[0m\u001b[1;32m      3\u001b[0m \u001b[0;34m\u001b[0m\u001b[0m\n\u001b[1;32m      4\u001b[0m \u001b[0;32mclass\u001b[0m \u001b[0mSomeStorage\u001b[0m\u001b[0;34m:\u001b[0m\u001b[0;34m\u001b[0m\u001b[0;34m\u001b[0m\u001b[0m\n\u001b[1;32m      5\u001b[0m \u001b[0;34m\u001b[0m\u001b[0m\n",
      "\u001b[0;31mModuleNotFoundError\u001b[0m: No module named 'cupy'"
     ]
    }
   ],
   "source": [
    "import numpy as np\n",
    "import cupy as cp\n",
    "\n",
    "class SomeStorage:\n",
    "    \n",
    "    NONE_MODIFIED = 0\n",
    "    NP_MODIFIED = 1\n",
    "    CP_MODIFIED = 2\n",
    "    \n",
    "    def __init__(shape, dtype):\n",
    "        self._np_buffer = np.zeros(shape, dtype)\n",
    "        self._cp_buffer = cp.zeros(shape, dtype)\n",
    "        self._sync_state = self.NONE_MODIFIED\n",
    "        \n",
    "    def _touch_np(self):\n",
    "        self._sync_state = self.NP_MODIFIED\n",
    "    \n",
    "    def _touch_cp(self):\n",
    "        self._sync_state = self.CP_MODIFIED\n",
    "    \n",
    "    def _np_to_cp(self):\n",
    "        if self._sync_state == self.NP_MODIFIED:\n",
    "            # TODO\n",
    "            self._sync_state = self.NONE_MODIFIED\n",
    "    def _cp_to_np(self):\n",
    "        if self._sync_state == self.CP_MODIFIED:\n",
    "            # TODO\n",
    "            self._sync_state = self.NONE_MODIFIED\n",
    "    \n",
    "    @property\n",
    "    def __gt_interface__(self):\n",
    "        np_interface = self._np_buffer.__array_interface__\n",
    "        np_interface['acquire'] = self._cp_to_np\n",
    "        np_interface['touch'] = self._touch_np\n",
    "        \n",
    "        cp_interface = self._np_buffer.__cuda_array_interface__\n",
    "        cp_interface['acquire'] = self._np_to_cp\n",
    "        cp_interface['touch'] = self._touch_cp\n",
    "        return {None: np_interface, \"gpu\": cp_interface}\n",
    "        "
   ]
  },
  {
   "cell_type": "markdown",
   "metadata": {},
   "source": [
    "This second example demonstrates how the GT4Py synced storages could be wrapped to add semantic information about the dimensions in addition:"
   ]
  },
  {
   "cell_type": "code",
   "execution_count": null,
   "metadata": {},
   "outputs": [],
   "source": [
    "from gt4py.storage import storage\n",
    "\n",
    "class StorageWrapper:\n",
    "    \n",
    "    def __init__(*args, dims=\"IJK\", **kwargs)\n",
    "        self._gt4py_storage = storage(*args, **kwargs)\n",
    "        self._dims = tuple(dims)\n",
    "    \n",
    "    \n",
    "    @property\n",
    "    def __gt_interface__(self):\n",
    "        interface = self._gt4py_storage\n",
    "        for key, interface in interface.items():\n",
    "            interface[key]['dims'] = self._dims\n",
    "        return interface"
   ]
  },
  {
   "cell_type": "markdown",
   "metadata": {},
   "source": [
    "The third example demonstrate how `xarray` could be used to provide this interface: "
   ]
  },
  {
   "cell_type": "code",
   "execution_count": null,
   "metadata": {},
   "outputs": [],
   "source": [
    "import numpy as np\n",
    "import xarray as xr\n",
    "\n",
    "\n",
    "@xr.register_dataarray_accessor(\"__gt_interface__\")\n",
    "def _sid_interface_from_xarray(xarray_obj):\n",
    "    if hasattr(xarray_obj.data, \"__gt_interface__\"):\n",
    "        interface = xarray_obj.data.__gt_interface__\n",
    "    else:\n",
    "        interface = {\"cpu\": xarray_obj.data.__array_interface__}\n",
    "    for binfo in interface.values():\n",
    "        binfo[\"dims\"] = xarray_obj.dims\n",
    "    return interface"
   ]
  },
  {
   "cell_type": "code",
   "execution_count": null,
   "metadata": {},
   "outputs": [],
   "source": [
    "import numpy as np\n",
    "from gt4py import gtscript\n",
    "\n",
    "in_field = np.zeros((2, 2, 2), dtype=np.float64)\n",
    "\n",
    "ctr = 1\n",
    "for i in range(2):\n",
    "    for j in range(2):\n",
    "        for k in range(2):\n",
    "            in_field[i, j, k] = ctr\n",
    "            ctr = ctr + 1\n",
    "print(\"INPUT:\")\n",
    "print(in_field)\n",
    "\n",
    "\n",
    "@gtscript.stencil(backend=\"numpy\")\n",
    "def copy_stencil(in_field: gtscript.Field[np.float64], out_field: gtscript.Field[np.float64]):\n",
    "    with computation(PARALLEL), interval(...):\n",
    "        out_field = in_field\n",
    "\n",
    "\n",
    "print(\"OUTPUT: numpy\")\n",
    "out_field = np.zeros((2, 2, 2), dtype=np.float64)\n",
    "copy_stencil(in_field, out_field, origin=(0, 0, 0))\n",
    "print(out_field)\n",
    "\n",
    "print(\"OUTPUT: xarray\")\n",
    "out_field = xr.DataArray(np.zeros((2, 2, 2), dtype=np.float64), dims=(\"J\", \"I\", \"K\"))\n",
    "copy_stencil(in_field, out_field, origin=(0, 0, 0))\n",
    "print(out_field.transpose(\"I\", \"J\", \"K\"))\n"
   ]
  },
  {
   "cell_type": "code",
   "execution_count": null,
   "metadata": {},
   "outputs": [],
   "source": []
  }
 ],
 "metadata": {
  "kernelspec": {
   "display_name": "Python 3",
   "language": "python",
   "name": "python3"
  },
  "language_info": {
   "codemirror_mode": {
    "name": "ipython",
    "version": 3
   },
   "file_extension": ".py",
   "mimetype": "text/x-python",
   "name": "python",
   "nbconvert_exporter": "python",
   "pygments_lexer": "ipython3",
   "version": "3.6.9"
  }
 },
 "nbformat": 4,
 "nbformat_minor": 4
}
